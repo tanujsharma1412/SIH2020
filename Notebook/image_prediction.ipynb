{
 "cells": [
  {
   "cell_type": "code",
   "execution_count": null,
   "metadata": {},
   "outputs": [],
   "source": [
    "from tensorflow.keras.applications import InceptionResNetV2\n",
    "from tensorflow.keras.layers import Conv2D\n",
    "from tensorflow.keras.layers import MaxPooling2D\n",
    "from tensorflow.keras.layers import Flatten\n",
    "from tensorflow.keras.layers import Dense\n",
    "from tensorflow.keras.layers import Dropout\n",
    "from tensorflow.keras.layers import InputLayer\n",
    "from tensorflow.keras.layers import GlobalAveragePooling2D\n",
    "from tensorflow.keras.models import Sequential\n",
    "from tensorflow.keras.models import Model\n",
    "from tensorflow.keras import optimizers\n",
    "from tensorflow.keras.callbacks import ReduceLROnPlateau,EarlyStopping\n",
    "from tensorflow.keras.applications import InceptionResNetV2\n",
    "from tensorflow.keras import optimizers\n",
    "\n",
    "input=(128,128,3)\n",
    "mobnet_model=InceptionResNetV2(include_top=False,weights='imagenet',input_shape=input_shape)\n",
    "mobnet_model.trainable=True\n",
    "image_model=Sequential()\n",
    "image_model.add(mobnet_model)\n",
    "image_model.add(GlobalAveragePooling2D())\n",
    "image_model.add(Dense(units=2,activation='softmax'))\n",
    "image_model.compile(loss='binary_crossentropy',optimizer=optimizers.Adam(lr=1e-5,beta_1=0.9,beta_2=0.999,epsilon=None,decay=0.0,amsgrad=False),metrics=['accuracy'])\n",
    "image_model.load_weights('C:/Users/Administrator/Desktop/model2.h5')\n"
   ]
  },
  {
   "cell_type": "code",
   "execution_count": null,
   "metadata": {},
   "outputs": [],
   "source": [
    "from keras.models import load_model\n",
    "import cv2\n",
    "import numpy as np\n",
    "image_model.load_weights('model2.h5')\n",
    "#image=cv2.imread('C:/Users/Administrator/Desktop/testing/8.jpg')\n",
    "image=cv2.imread('C:/Users/Administrator/Desktop/real/000028.jpg')\n",
    "#image=cv2.imread('C:/Users/Administrator/Desktop/testing/3.png')\n",
    "#image=cv2.imread('C:/Users/Administrator/Desktop/testing/5.png')\n",
    "\n",
    "image=cv2.resize(img,(128,128))\n",
    "image=np.reshape(img,[-1,128,128,3])\n",
    "print(image_model.predict_classes(img))"
   ]
  }
 ],
 "metadata": {
  "kernelspec": {
   "display_name": "Python 3",
   "language": "python",
   "name": "python3"
  },
  "language_info": {
   "codemirror_mode": {
    "name": "ipython",
    "version": 3
   },
   "file_extension": ".py",
   "mimetype": "text/x-python",
   "name": "python",
   "nbconvert_exporter": "python",
   "pygments_lexer": "ipython3",
   "version": "3.7.6"
  }
 },
 "nbformat": 4,
 "nbformat_minor": 2
}
